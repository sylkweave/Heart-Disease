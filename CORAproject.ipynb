version https://git-lfs.github.com/spec/v1
oid sha256:94be2d92e70ef90982d528bd9e4f620ea3af249e145e7f429459c8f0cfe5f98d
size 64873003
